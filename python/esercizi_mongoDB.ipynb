{
 "cells": [
  {
   "cell_type": "markdown",
   "metadata": {},
   "source": [
    "Creare un'applicazione in Python che utilizza MongoDB per gestire un sistema di libreria, includendo la gestione del prestito dei libri.\n",
    "\n",
    "Setup del progetto:\n",
    "\n",
    "Installare le librerie necessarie (pymongo per interagire con MongoDB).\n",
    "Creare un database chiamato libreria e una collezione chiamata libri opz(utenti).\n",
    "\n",
    "Definizione del libro: Ogni libro deve avere i seguenti attributi:\n",
    "\n",
    "titolo (string)\n",
    "autore (string)\n",
    "anno_pubblicazione (int)\n",
    "genere (string)\n",
    "disponibile (boolean)\n",
    "prestiti (lista di oggetti che contengono informazioni sul prestito, come nome del prestatario e data del prestito)\n",
    "\n",
    "Funzionalità dell'applicazione:\n",
    "\n",
    "Aggiungi libro: Implementare una funzione che consente di aggiungere un nuovo libro alla collezione.\n",
    "Visualizza libri: Implementare una funzione che mostra tutti i libri presenti nella collezione, evidenziando se sono disponibili o meno.\n",
    "Modifica libro: Implementare una funzione che consente di modificare le informazioni di un libro esistente (identificato da titolo o autore).\n",
    "Elimina libro: Implementare una funzione per rimuovere un libro dalla collezione.\n",
    "Prestito libro: Implementare una funzione che consente di prestare un libro a un utente. Dovrà aggiornare lo stato del libro e registrare le informazioni del prestito.\n",
    "Restituzione libro: Implementare una funzione che consente di restituire un libro, aggiornando lo stato del libro e rimuovendo il prestito dalla lista.\n",
    "\n",
    "Interfaccia utente:\n",
    "\n",
    "Creare un semplice menu a console che permetta all'utente di scegliere quale operazione eseguire (aggiungere, visualizzare, modificare, eliminare, prestare o restituire un libro).\n",
    "Gestire le eccezioni per garantire che l'input dell'utente sia valido.\n",
    "\n",
    "\n"
   ]
  }
 ],
 "metadata": {
  "language_info": {
   "name": "python"
  }
 },
 "nbformat": 4,
 "nbformat_minor": 2
}
